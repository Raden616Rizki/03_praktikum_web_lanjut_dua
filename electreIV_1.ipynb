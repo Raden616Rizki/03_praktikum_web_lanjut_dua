{
  "nbformat": 4,
  "nbformat_minor": 0,
  "metadata": {
    "colab": {
      "provenance": [],
      "authorship_tag": "ABX9TyNRjEnAqleQJ9rWLkfpj20A",
      "include_colab_link": true
    },
    "kernelspec": {
      "name": "python3",
      "display_name": "Python 3"
    },
    "language_info": {
      "name": "python"
    }
  },
  "cells": [
    {
      "cell_type": "markdown",
      "metadata": {
        "id": "view-in-github",
        "colab_type": "text"
      },
      "source": [
        "<a href=\"https://colab.research.google.com/github/Raden616Rizki/03_praktikum_web_lanjut_dua/blob/master/electreIV_1.ipynb\" target=\"_parent\"><img src=\"https://colab.research.google.com/assets/colab-badge.svg\" alt=\"Open In Colab\"/></a>"
      ]
    },
    {
      "cell_type": "code",
      "execution_count": 56,
      "metadata": {
        "colab": {
          "base_uri": "https://localhost:8080/"
        },
        "id": "GvV_hLCKF0Gg",
        "outputId": "b1c1a1a2-7556-4cf7-9e6e-7a599e08ab76"
      },
      "outputs": [
        {
          "output_type": "execute_result",
          "data": {
            "text/plain": [
              "array([[5, 3, 3, 3],\n",
              "       [4, 4, 3, 4],\n",
              "       [4, 4, 3, 3],\n",
              "       [2, 4, 3, 3]])"
            ]
          },
          "metadata": {},
          "execution_count": 56
        }
      ],
      "source": [
        "import numpy as np\n",
        "import math\n",
        "\n",
        "# Penentuan Sampel\n",
        "tabel_data = np.array([[5, 3, 3, 3], [4, 4, 3, 4], [4, 4, 3, 3], [2, 4, 3, 3]])\n",
        "\n",
        "tabel_data"
      ]
    },
    {
      "cell_type": "code",
      "source": [
        "# Penentuan Bobot\n",
        "bobot = np.array([5, 2, 4, 2])\n",
        "bobot"
      ],
      "metadata": {
        "colab": {
          "base_uri": "https://localhost:8080/"
        },
        "id": "lQlBM9N0HdpX",
        "outputId": "9ba50227-893b-4c46-aed2-768d1b6a2e64"
      },
      "execution_count": 57,
      "outputs": [
        {
          "output_type": "execute_result",
          "data": {
            "text/plain": [
              "array([5, 2, 4, 2])"
            ]
          },
          "metadata": {},
          "execution_count": 57
        }
      ]
    },
    {
      "cell_type": "code",
      "source": [
        "# Normalisasi Matriks Alternatif\n",
        "def normalisasi_matriks(matriks):\n",
        "  baris = len(matriks)\n",
        "  kolom = len(matriks[0])\n",
        "  list_pembagi = []\n",
        "\n",
        "  matriks_ternomalisasi = np.zeros((baris, kolom))\n",
        "\n",
        "  # Memperoleh nilai pembagi yang dikuadratkan\n",
        "  for k in range(kolom):\n",
        "    list_pembagi.append([])\n",
        "    for l in range(baris):\n",
        "      list_pembagi[k].append(matriks[l][k]**2)\n",
        "\n",
        "  for i in range(baris):\n",
        "    for j in range(kolom):\n",
        "      matriks_ternomalisasi[i][j] = matriks[i][j]/math.sqrt(sum(list_pembagi[j]))\n",
        "\n",
        "  return np.array(matriks_ternomalisasi)\n",
        "\n",
        "matriks_ternomalisasi = normalisasi_matriks(tabel_data)\n",
        "matriks_ternomalisasi\n"
      ],
      "metadata": {
        "colab": {
          "base_uri": "https://localhost:8080/"
        },
        "id": "9qdz8QigIO7m",
        "outputId": "7a40597a-66ea-4dad-e5b9-ce71fc9c9b70"
      },
      "execution_count": 58,
      "outputs": [
        {
          "output_type": "execute_result",
          "data": {
            "text/plain": [
              "array([[0.6401844 , 0.39735971, 0.5       , 0.45749571],\n",
              "       [0.51214752, 0.52981294, 0.5       , 0.60999428],\n",
              "       [0.51214752, 0.52981294, 0.5       , 0.45749571],\n",
              "       [0.25607376, 0.52981294, 0.5       , 0.45749571]])"
            ]
          },
          "metadata": {},
          "execution_count": 58
        }
      ]
    },
    {
      "cell_type": "code",
      "source": [
        "# Pembobotan pada matriks yang telah dinormalisasi\n",
        "def pembobotan_matriks(matriks):\n",
        "  baris = len(matriks)\n",
        "  kolom = len(matriks[0])\n",
        "\n",
        "  pembobotan_matriks = np.zeros((baris, kolom))\n",
        "\n",
        "  for i in range(baris):\n",
        "    for j in range(kolom):\n",
        "      pembobotan_matriks[i][j] = matriks[i][j] * bobot[j]\n",
        "\n",
        "  return np.array(pembobotan_matriks)\n",
        "\n",
        "matriks_normalisasi_v = pembobotan_matriks(matriks_ternomalisasi)\n",
        "matriks_normalisasi_v"
      ],
      "metadata": {
        "colab": {
          "base_uri": "https://localhost:8080/"
        },
        "id": "bMKewuFCRAWD",
        "outputId": "978ceac9-9c27-4a00-e505-60d07355d3cd"
      },
      "execution_count": 59,
      "outputs": [
        {
          "output_type": "execute_result",
          "data": {
            "text/plain": [
              "array([[3.200922  , 0.79471941, 2.        , 0.91499142],\n",
              "       [2.5607376 , 1.05962589, 2.        , 1.21998856],\n",
              "       [2.5607376 , 1.05962589, 2.        , 0.91499142],\n",
              "       [1.2803688 , 1.05962589, 2.        , 0.91499142]])"
            ]
          },
          "metadata": {},
          "execution_count": 59
        }
      ]
    },
    {
      "cell_type": "code",
      "source": [
        "# List Himpunan Concordance Matriks\n",
        "def get_himpunan_matriks(matriks, tipe):\n",
        "  baris = len(matriks)\n",
        "  kolom = len(matriks[0])\n",
        "\n",
        "  himpunan_matriks = []\n",
        "\n",
        "# List Coscordance\n",
        "  for i in range(baris):\n",
        "    for j in range(kolom):\n",
        "      if i == j:\n",
        "        continue\n",
        "\n",
        "      if tipe.lower() == 'concordance':\n",
        "        c = f'C{i+1}{j+1}'\n",
        "      elif tipe.lower() == 'discordance':\n",
        "        c = f'D{i+1}{j+1}'\n",
        "      else:\n",
        "        print('Tipe Tidak Dikenali!!!')\n",
        "        return\n",
        "\n",
        "      himpunan = get_himpunan(matriks, tipe, i, j)\n",
        "      himpunan_c = {c: himpunan}\n",
        "\n",
        "      himpunan_matriks.append(himpunan_c);\n",
        "\n",
        "  for c in himpunan_matriks:\n",
        "    print(c)\n",
        "\n",
        "def get_himpunan(matriks, tipe, baris_a, baris_b):\n",
        "  kolom = len(matriks[0])\n",
        "\n",
        "  himpunan = []\n",
        "\n",
        "  for j in range(kolom):\n",
        "\n",
        "    if tipe.lower() == 'concordance':\n",
        "      if matriks[baris_a][j] >= matriks[baris_b][j]:\n",
        "        himpunan.append(j+1)\n",
        "    elif tipe.lower() == 'discordance':\n",
        "      if matriks[baris_a][j] < matriks[baris_b][j]:\n",
        "        himpunan.append(j+1)\n",
        "    else:\n",
        "      print('Tipe Tidak Dikenali!!!')\n",
        "      return\n",
        "\n",
        "  return himpunan\n",
        "\n",
        "get_himpunan_matriks(matriks_normalisasi_v, 'Concordance')"
      ],
      "metadata": {
        "colab": {
          "base_uri": "https://localhost:8080/"
        },
        "id": "1tF-O31USOqI",
        "outputId": "6405476b-1b68-4d74-cfd9-8cd799859fd4"
      },
      "execution_count": 53,
      "outputs": [
        {
          "output_type": "stream",
          "name": "stdout",
          "text": [
            "{'C12': [1, 3]}\n",
            "{'C13': [1, 3, 4]}\n",
            "{'C14': [1, 3, 4]}\n",
            "{'C21': [2, 3, 4]}\n",
            "{'C23': [1, 2, 3, 4]}\n",
            "{'C24': [1, 2, 3, 4]}\n",
            "{'C31': [2, 3, 4]}\n",
            "{'C32': [1, 2, 3]}\n",
            "{'C34': [1, 2, 3, 4]}\n",
            "{'C41': [2, 3, 4]}\n",
            "{'C42': [2, 3]}\n",
            "{'C43': [2, 3, 4]}\n"
          ]
        }
      ]
    },
    {
      "cell_type": "code",
      "source": [
        "# List Himpunan Discordance Matriks\n",
        "get_himpunan_matriks(matriks_normalisasi_v, 'Discordance')"
      ],
      "metadata": {
        "colab": {
          "base_uri": "https://localhost:8080/"
        },
        "id": "8UhlbaC3iw9i",
        "outputId": "09a831c9-6942-4143-f460-3805707c87cc"
      },
      "execution_count": 54,
      "outputs": [
        {
          "output_type": "stream",
          "name": "stdout",
          "text": [
            "{'D12': [2, 4]}\n",
            "{'D13': [2]}\n",
            "{'D14': [2]}\n",
            "{'D21': [1]}\n",
            "{'D23': []}\n",
            "{'D24': []}\n",
            "{'D31': [1]}\n",
            "{'D32': [4]}\n",
            "{'D34': []}\n",
            "{'D41': [1]}\n",
            "{'D42': [1, 4]}\n",
            "{'D43': [1]}\n"
          ]
        }
      ]
    },
    {
      "cell_type": "code",
      "source": [
        "# Tabel Himpunan Concordance\n",
        "def get_tabel_himpunan(matriks, tipe):\n",
        "  baris = len(matriks)\n",
        "  kolom = len(matriks[0])\n",
        "\n",
        "  tabel_himpunan = [[0 for j in range(kolom)] for i in range(baris)]\n",
        "\n",
        "  for i in range(baris):\n",
        "    for j in range(kolom):\n",
        "      if i != j:\n",
        "        himpunan = get_himpunan(matriks, tipe, i, j);\n",
        "        tabel_himpunan[i][j] = himpunan\n",
        "\n",
        "  return np.array(tabel_himpunan, dtype=object)\n",
        "\n",
        "tabel_himpunan_concordance = get_tabel_himpunan(matriks_normalisasi_v, 'Concordance')\n",
        "tabel_himpunan_concordance"
      ],
      "metadata": {
        "colab": {
          "base_uri": "https://localhost:8080/"
        },
        "id": "cjzzDkcMjPFJ",
        "outputId": "b58b1776-3c05-4090-bcaa-1d3b4576e06a"
      },
      "execution_count": 73,
      "outputs": [
        {
          "output_type": "execute_result",
          "data": {
            "text/plain": [
              "array([[0, list([1, 3]), list([1, 3, 4]), list([1, 3, 4])],\n",
              "       [list([2, 3, 4]), 0, list([1, 2, 3, 4]), list([1, 2, 3, 4])],\n",
              "       [list([2, 3, 4]), list([1, 2, 3]), 0, list([1, 2, 3, 4])],\n",
              "       [list([2, 3, 4]), list([2, 3]), list([2, 3, 4]), 0]], dtype=object)"
            ]
          },
          "metadata": {},
          "execution_count": 73
        }
      ]
    },
    {
      "cell_type": "code",
      "source": [
        "# Tabel Himpunan Discordance\n",
        "tabel_himpunan_discordance = get_tabel_himpunan(matriks_normalisasi_v, 'Discordance')\n",
        "tabel_himpunan_discordance"
      ],
      "metadata": {
        "colab": {
          "base_uri": "https://localhost:8080/"
        },
        "id": "iLQHKg8xm09I",
        "outputId": "62ddd65b-34be-40ac-bc5d-4f8430745bcf"
      },
      "execution_count": 79,
      "outputs": [
        {
          "output_type": "execute_result",
          "data": {
            "text/plain": [
              "array([[0, list([2, 4]), list([2]), list([2])],\n",
              "       [list([1]), 0, list([]), list([])],\n",
              "       [list([1]), list([4]), 0, list([])],\n",
              "       [list([1]), list([1, 4]), list([1]), 0]], dtype=object)"
            ]
          },
          "metadata": {},
          "execution_count": 79
        }
      ]
    },
    {
      "cell_type": "code",
      "source": [
        "# Matriks Concordance\n",
        "def buat_matriks_condis(tabel_himpunan, tipe, matriks=0):\n",
        "  baris = len(tabel_himpunan)\n",
        "  kolom = len(tabel_himpunan[0])\n",
        "\n",
        "  matriks_concordance = np.zeros((baris, kolom))\n",
        "\n",
        "  for i in range(baris):\n",
        "    for j in range(kolom):\n",
        "      if i != j:\n",
        "        if tipe.lower() == 'concordance':\n",
        "          matriks_concordance[i][j] = hitung_bobot_coscordance(tabel_himpunan[i][j])\n",
        "        elif tipe.lower() == 'discordance':\n",
        "          pembilang = max_himpunan(matriks, i, j, tabel_himpunan[i][j])\n",
        "          penyebut = max_himpunan(matriks, i, j)\n",
        "          matriks_concordance[i][j] = pembilang/penyebut\n",
        "        else:\n",
        "          print('Tipe Tidak Dikenali!!!')\n",
        "          return\n",
        "\n",
        "\n",
        "  return np.array(matriks_concordance)\n",
        "\n",
        "def hitung_bobot_coscordance(list_himpunan):\n",
        "  total_bobot = 0\n",
        "  for i in list_himpunan:\n",
        "    total_bobot += bobot[i-1]\n",
        "\n",
        "  return total_bobot\n",
        "\n",
        "matriks_concordance = buat_matriks_condis(tabel_himpunan_concordance, 'concordance')\n",
        "matriks_concordance"
      ],
      "metadata": {
        "colab": {
          "base_uri": "https://localhost:8080/"
        },
        "id": "upCrPxyYm-F3",
        "outputId": "f49a7976-40fc-432f-e12b-f12c7481d521"
      },
      "execution_count": 95,
      "outputs": [
        {
          "output_type": "execute_result",
          "data": {
            "text/plain": [
              "array([[ 0.,  9., 11., 11.],\n",
              "       [ 8.,  0., 13., 13.],\n",
              "       [ 8., 11.,  0., 13.],\n",
              "       [ 8.,  6.,  8.,  0.]])"
            ]
          },
          "metadata": {},
          "execution_count": 95
        }
      ]
    },
    {
      "cell_type": "code",
      "source": [
        "# Matriks Discordance\n",
        "\n",
        "def max_himpunan(matriks, baris_a, baris_b, list_himpunan = 0):\n",
        "  kolom = len(matriks[0])\n",
        "\n",
        "  list_selisih = []\n",
        "\n",
        "  for j in range(kolom):\n",
        "    if list_himpunan != 0:\n",
        "      if not list_himpunan:\n",
        "        return 0\n",
        "      elif j + 1 in list_himpunan:\n",
        "        list_selisih.append(abs(matriks[baris_a][j] - matriks[baris_b][j]))\n",
        "    else:\n",
        "      list_selisih.append(abs(matriks[baris_a][j] - matriks[baris_b][j]))\n",
        "\n",
        "  return max(list_selisih)\n",
        "\n",
        "matriks_discordance = buat_matriks_condis(tabel_himpunan_discordance, 'discordance', matriks_normalisasi_v)\n",
        "matriks_discordance"
      ],
      "metadata": {
        "colab": {
          "base_uri": "https://localhost:8080/"
        },
        "id": "IP-gWkkZp3v6",
        "outputId": "c25ebb47-9f58-455c-c402-fb6a42edcf1c"
      },
      "execution_count": 96,
      "outputs": [
        {
          "output_type": "execute_result",
          "data": {
            "text/plain": [
              "array([[0.        , 0.47642076, 0.41379714, 0.13793238],\n",
              "       [1.        , 0.        , 0.        , 0.        ],\n",
              "       [1.        , 1.        , 0.        , 0.        ],\n",
              "       [1.        , 1.        , 1.        , 0.        ]])"
            ]
          },
          "metadata": {},
          "execution_count": 96
        }
      ]
    },
    {
      "cell_type": "code",
      "source": [
        "# Menghitung Matrik Dominan Concordance dan Discordance\n",
        "def hitung_matriks_dominan(matriks):\n",
        "  baris = len(matriks)\n",
        "  kolom = len(matriks[0])\n",
        "  c = np.sum(matriks) / (baris * (baris-1))\n",
        "\n",
        "  matriks_domain = np.zeros((baris, kolom))\n",
        "\n",
        "  for i in range(baris):\n",
        "    for j in range(kolom):\n",
        "      if i != j:\n",
        "        if matriks[i][j] >= c:\n",
        "          matriks_domain[i][j] = 1\n",
        "\n",
        "  return np.array(matriks_domain)\n",
        "\n",
        "# Concordance\n",
        "matriks_domain_concordance = hitung_matriks_dominan(matriks_concordance)\n",
        "matriks_domain_concordance"
      ],
      "metadata": {
        "colab": {
          "base_uri": "https://localhost:8080/"
        },
        "id": "pACp0uEezBTe",
        "outputId": "c61e2a54-45ff-4b8c-bea5-b998d913d03c"
      },
      "execution_count": 101,
      "outputs": [
        {
          "output_type": "execute_result",
          "data": {
            "text/plain": [
              "array([[0., 0., 1., 1.],\n",
              "       [0., 0., 1., 1.],\n",
              "       [0., 1., 0., 1.],\n",
              "       [0., 0., 0., 0.]])"
            ]
          },
          "metadata": {},
          "execution_count": 101
        }
      ]
    },
    {
      "cell_type": "code",
      "source": [
        "# Discordance\n",
        "matriks_domain_discordance = hitung_matriks_dominan(matriks_discordance)\n",
        "matriks_domain_discordance"
      ],
      "metadata": {
        "colab": {
          "base_uri": "https://localhost:8080/"
        },
        "id": "eCvb3jtM2Wmt",
        "outputId": "d82fabe2-eb47-4e7b-f800-43200326ad9c"
      },
      "execution_count": 102,
      "outputs": [
        {
          "output_type": "execute_result",
          "data": {
            "text/plain": [
              "array([[0., 0., 0., 0.],\n",
              "       [1., 0., 0., 0.],\n",
              "       [1., 1., 0., 0.],\n",
              "       [1., 1., 1., 0.]])"
            ]
          },
          "metadata": {},
          "execution_count": 102
        }
      ]
    },
    {
      "cell_type": "code",
      "source": [
        "# Matriks Agregasi\n",
        "def buat_matriks_agregasi(matriks_c, matriks_d):\n",
        "  baris = len(matriks_c)\n",
        "  kolom = len(matriks_c[0])\n",
        "\n",
        "  matriks_agregasi = np.zeros((baris, kolom))\n",
        "\n",
        "  for i in range(baris):\n",
        "    for j in range(kolom):\n",
        "      if i != j:\n",
        "        matriks_agregasi[i][j] = int(matriks_c[i][j] * matriks_d[i][j])\n",
        "\n",
        "  return np.array(matriks_agregasi)\n",
        "\n",
        "matriks_agregasi = buat_matriks_agregasi(matriks_domain_concordance, matriks_discordance)\n",
        "matriks_agregasi"
      ],
      "metadata": {
        "colab": {
          "base_uri": "https://localhost:8080/"
        },
        "id": "HQ-L66F12nti",
        "outputId": "d01b2562-b813-4250-c7da-8d007fef67cf"
      },
      "execution_count": 104,
      "outputs": [
        {
          "output_type": "execute_result",
          "data": {
            "text/plain": [
              "array([[0., 0., 0., 0.],\n",
              "       [0., 0., 0., 0.],\n",
              "       [0., 1., 0., 0.],\n",
              "       [0., 0., 0., 0.]])"
            ]
          },
          "metadata": {},
          "execution_count": 104
        }
      ]
    },
    {
      "cell_type": "code",
      "source": [],
      "metadata": {
        "id": "zRuyVfzN318y"
      },
      "execution_count": null,
      "outputs": []
    }
  ]
}